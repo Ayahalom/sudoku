{
 "cells": [
  {
   "cell_type": "code",
   "execution_count": 1,
   "metadata": {},
   "outputs": [],
   "source": [
    "import numpy as np"
   ]
  },
  {
   "cell_type": "code",
   "execution_count": 2,
   "metadata": {},
   "outputs": [],
   "source": [
    "def Solve(arr):\n",
    "    empty_ind = firstEmptyIndex(arr)\n",
    "    if empty_ind[0] == -1:\n",
    "        print(arr)\n",
    "        return True\n",
    "    ints_opts = intsAllowedList(arr,empty_ind)\n",
    "    if not ints_opts:\n",
    "        return False\n",
    "    for i in ints_opts:\n",
    "        arr[empty_ind[0],empty_ind[1]] = i # try an option\n",
    "        if Solve(arr):\n",
    "            return True\n",
    "        else:\n",
    "            arr[empty_ind[0],empty_ind[1]] = 0"
   ]
  },
  {
   "cell_type": "code",
   "execution_count": 3,
   "metadata": {},
   "outputs": [],
   "source": [
    "def firstEmptyIndex(arr):\n",
    "    indexes = np.where(arr==0)\n",
    "    if len(indexes[0]) > 0:\n",
    "        return [indexes[0][0],indexes[1][0]]\n",
    "    else:\n",
    "        return [-1,-1]"
   ]
  },
  {
   "cell_type": "code",
   "execution_count": 4,
   "metadata": {},
   "outputs": [],
   "source": [
    "def intsNotAllowedSet(arr,index):\n",
    "    n , m = index\n",
    "    row_set = set(arr[n,:])\n",
    "    col_set = set(arr[:,m])\n",
    "    block_set = set(arr[(3*(n//3)):(3*(n//3+1)),(3*(m//3)):(3*(m//3+1))].flatten())\n",
    "    u = (row_set | col_set | block_set)\n",
    "    u.discard(0)\n",
    "    return u"
   ]
  },
  {
   "cell_type": "code",
   "execution_count": 5,
   "metadata": {},
   "outputs": [],
   "source": [
    "def intsAllowedList(arr,index):\n",
    "    not_allowed = intsNotAllowedSet(arr,index)\n",
    "    allowed = {1, 2, 3, 4, 5, 6, 7, 8, 9}\n",
    "    return sorted(allowed-not_allowed)"
   ]
  },
  {
   "cell_type": "code",
   "execution_count": 6,
   "metadata": {},
   "outputs": [],
   "source": [
    "a = np.array([[0, 4, 3, 0, 8, 0, 2, 5, 0],\n",
    "       [6, 0, 0, 0, 0, 0, 0, 0, 0],\n",
    "       [0, 0, 0, 0, 0, 1, 0, 9, 4],\n",
    "       [9, 0, 0, 0, 0, 4, 0, 7, 0],\n",
    "       [0, 0, 0, 6, 0, 8, 0, 0, 0],\n",
    "       [0, 1, 0, 2, 0, 0, 0, 0, 3],\n",
    "       [8, 2, 0, 5, 0, 0, 0, 0, 0],\n",
    "       [0, 0, 0, 0, 0, 0, 0, 0, 5],\n",
    "       [0, 3, 4, 0, 9, 0, 7, 1, 0]])"
   ]
  },
  {
   "cell_type": "code",
   "execution_count": 7,
   "metadata": {},
   "outputs": [
    {
     "name": "stdout",
     "output_type": "stream",
     "text": [
      "[[0 4 3 0 8 0 2 5 0]\n",
      " [6 0 0 0 0 0 0 0 0]\n",
      " [0 0 0 0 0 1 0 9 4]\n",
      " [9 0 0 0 0 4 0 7 0]\n",
      " [0 0 0 6 0 8 0 0 0]\n",
      " [0 1 0 2 0 0 0 0 3]\n",
      " [8 2 0 5 0 0 0 0 0]\n",
      " [0 0 0 0 0 0 0 0 5]\n",
      " [0 3 4 0 9 0 7 1 0]]\n"
     ]
    }
   ],
   "source": [
    "print(a)"
   ]
  },
  {
   "cell_type": "code",
   "execution_count": 8,
   "metadata": {},
   "outputs": [
    {
     "name": "stdout",
     "output_type": "stream",
     "text": [
      "[[1 4 3 9 8 6 2 5 7]\n",
      " [6 7 9 4 2 5 3 8 1]\n",
      " [2 8 5 7 3 1 6 9 4]\n",
      " [9 6 2 3 5 4 1 7 8]\n",
      " [3 5 7 6 1 8 9 4 2]\n",
      " [4 1 8 2 7 9 5 6 3]\n",
      " [8 2 1 5 6 7 4 3 9]\n",
      " [7 9 6 1 4 3 8 2 5]\n",
      " [5 3 4 8 9 2 7 1 6]]\n",
      "True\n"
     ]
    }
   ],
   "source": [
    "print(Solve(a))"
   ]
  },
  {
   "cell_type": "code",
   "execution_count": 9,
   "metadata": {},
   "outputs": [
    {
     "name": "stdout",
     "output_type": "stream",
     "text": [
      "[[5 3 4 6 7 8 9 1 2]\n",
      " [6 7 2 1 9 5 3 4 8]\n",
      " [1 9 8 3 4 2 5 6 7]\n",
      " [8 5 9 7 6 1 4 2 3]\n",
      " [4 2 6 8 5 3 7 9 1]\n",
      " [7 1 3 9 2 4 8 5 6]\n",
      " [9 6 1 5 3 7 2 8 4]\n",
      " [2 8 7 4 1 9 6 3 5]\n",
      " [3 4 5 2 8 6 1 7 9]]\n",
      "True\n"
     ]
    }
   ],
   "source": [
    "b = np.array([[5, 3, 0, 0, 7, 0, 0, 0, 0],\n",
    "       [6, 0, 0, 1, 9, 5, 0, 0, 0],\n",
    "       [0, 9, 8, 0, 0, 0, 0, 6, 0],\n",
    "       [8, 0, 0, 0, 6, 0, 0, 0, 3],\n",
    "       [4, 0, 0, 8, 0, 3, 0, 0, 1],\n",
    "       [7, 0, 0, 0, 2, 0, 0, 0, 6],\n",
    "       [0, 6, 0, 0, 0, 0, 2, 8, 0],\n",
    "       [0, 0, 0, 4, 1, 9, 0, 0, 5],\n",
    "       [0, 0, 0, 0, 8, 0, 0, 7, 9]])\n",
    "print(Solve(b))"
   ]
  }
 ],
 "metadata": {
  "kernelspec": {
   "display_name": "Python 3",
   "language": "python",
   "name": "python3"
  },
  "language_info": {
   "codemirror_mode": {
    "name": "ipython",
    "version": 3
   },
   "file_extension": ".py",
   "mimetype": "text/x-python",
   "name": "python",
   "nbconvert_exporter": "python",
   "pygments_lexer": "ipython3",
   "version": "3.8.2"
  }
 },
 "nbformat": 4,
 "nbformat_minor": 4
}
